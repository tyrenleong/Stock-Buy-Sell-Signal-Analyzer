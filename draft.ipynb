{
 "cells": [
  {
   "cell_type": "code",
   "execution_count": 8,
   "metadata": {},
   "outputs": [],
   "source": [
    "import yfinance as yf\n",
    "import pandas as pd\n",
    "import numpy as np\n",
    "from datetime import date\n",
    "from dateutil.relativedelta import relativedelta\n"
   ]
  },
  {
   "cell_type": "code",
   "execution_count": 32,
   "metadata": {},
   "outputs": [],
   "source": [
    "# Download data function\n",
    "def download_data(ticker_symbols, start_date,  end_date):\n",
    "        data = {}\n",
    "        for symbol in ticker_symbols:\n",
    "                symbol_data = yf.download(symbol, start=start_date, end=end_date)\n",
    "                data[symbol] = symbol_data['Close']\n",
    "        symbol_prices = pd.DataFrame(data)\n",
    "        return symbol_prices"
   ]
  },
  {
   "cell_type": "code",
   "execution_count": 39,
   "metadata": {},
   "outputs": [],
   "source": [
    "def calculate_rsi(ticker_data):\n",
    "    delta = ticker_data.diff().dropna()\n",
    "    gain = delta.where(delta > 0, 0)\n",
    "    loss = -delta.where(delta < 0, 0)\n",
    "    # rolling window of 14 days is recommended\n",
    "    avg_gain = gain.rolling(window=14, min_periods=1).mean()\n",
    "    avg_loss = loss.rolling(window=14, min_periods=1).mean()\n",
    "    rsi = 100 - (100/(1 + (avg_gain/avg_loss)))\n",
    "    return rsi\n"
   ]
  },
  {
   "cell_type": "code",
   "execution_count": 63,
   "metadata": {},
   "outputs": [],
   "source": [
    "def analyze_prices(df):\n",
    "    for ticker in df.columns:\n",
    "        # Calculate RSI for each stock's closing prices\n",
    "        rsi_series = calculate_rsi(df[ticker])\n",
    "\n",
    "        buy_threshold=30 \n",
    "        sell_threshold=70\n",
    "        signals = []\n",
    "        # Iterate through each day to check for signals\n",
    "        for i in range(1, len(rsi_series)):\n",
    "            previous_rsi = rsi_series.iloc[i - 1]\n",
    "            current_rsi = rsi_series.iloc[i]\n",
    "            date = rsi_series.index[i]\n",
    "\n",
    "            # Check if a buy or sell signal is triggered\n",
    "            if previous_rsi >= buy_threshold and current_rsi < buy_threshold:\n",
    "                signal = \"Buy\"\n",
    "                # print(f\"Buy signal triggered for {ticker} on {date.strftime('%Y-%m-%d')} (Previous RSI: {previous_rsi:.2f}, Current RSI: {current_rsi:.2f})\")\n",
    "                signals.append([date, ticker, signal, current_rsi])\n",
    "            elif previous_rsi <= sell_threshold and current_rsi > sell_threshold:\n",
    "                signal = \"Sell\"\n",
    "                # print(f\"Sell signal triggered for {ticker} on {date.strftime('%Y-%m-%d')} (Previous RSI: {previous_rsi:.2f}, Current RSI: {current_rsi:.2f})\")\n",
    "                signals.append([date, ticker, signal, current_rsi])\n",
    "\n",
    "    # Convert the list of signals into a DataFrame\n",
    "    signals_df = pd.DataFrame(signals, columns=[\"Date\", \"Ticker\", \"Signal\", \"RSI\"])\n",
    "    return signals_df"
   ]
  },
  {
   "cell_type": "code",
   "execution_count": 64,
   "metadata": {},
   "outputs": [
    {
     "name": "stderr",
     "output_type": "stream",
     "text": [
      "[*********************100%***********************]  1 of 1 completed\n",
      "[*********************100%***********************]  1 of 1 completed\n",
      "[*********************100%***********************]  1 of 1 completed\n",
      "[*********************100%***********************]  1 of 1 completed\n",
      "[*********************100%***********************]  1 of 1 completed"
     ]
    },
    {
     "name": "stdout",
     "output_type": "stream",
     "text": [
      "         Date Ticker Signal        RSI\n",
      "0  2023-09-11   INTC   Sell  77.333184\n",
      "1  2023-09-19   INTC    Buy  25.531952\n",
      "2  2023-09-29   INTC    Buy  29.624656\n",
      "3  2023-10-10   INTC   Sell  70.714340\n",
      "4  2023-10-16   INTC   Sell  76.923094\n",
      "5  2023-10-26   INTC    Buy  27.148202\n",
      "6  2023-11-10   INTC   Sell  71.839589\n",
      "7  2023-11-14   INTC   Sell  80.519464\n",
      "8  2023-12-22   INTC   Sell  74.458875\n",
      "9  2024-01-17   INTC    Buy  23.758859\n",
      "10 2024-02-08   INTC    Buy  22.112522\n",
      "11 2024-04-08   INTC    Buy  28.789235\n",
      "12 2024-04-10   INTC    Buy  28.849407\n",
      "13 2024-04-12   INTC    Buy  25.108541\n",
      "14 2024-07-08   INTC   Sell  79.698018\n",
      "15 2024-07-12   INTC   Sell  71.683693\n",
      "16 2024-07-29   INTC    Buy  28.240733\n",
      "17 2024-08-01   INTC    Buy  19.777764\n",
      "\n",
      "Signals saved to rsi_signals.csv\n"
     ]
    },
    {
     "name": "stderr",
     "output_type": "stream",
     "text": [
      "\n"
     ]
    }
   ],
   "source": [
    "def main():\n",
    "    # 5 most active stocks from yahoo finance\n",
    "    stocks = ['NVDA', 'NIO', 'TSLA', 'INND', 'INTC']\n",
    "    # calculate the today's date and the date exactly 1 years in the past\n",
    "    present_date = date.today()\n",
    "    past_date = present_date - relativedelta(years=1)\n",
    "    present_date = present_date.strftime('%Y-%m-%d')\n",
    "    past_date = past_date.strftime('%Y-%m-%d')\n",
    "\n",
    "    # download the etf data from dates above\n",
    "    stock_data = download_data(stocks, past_date, present_date)\n",
    "    signal_df = analyze_prices(stock_data)\n",
    "    print(signal_df)\n",
    "\n",
    "    # Save the signals DataFrame to a CSV file\n",
    "    signal_df.to_csv(\"rsi_signals.csv\", index=False)\n",
    "    print(\"\\nSignals saved to rsi_signals.csv\")\n",
    "if __name__ == \"__main__\":\n",
    "    main()"
   ]
  },
  {
   "cell_type": "code",
   "execution_count": null,
   "metadata": {},
   "outputs": [],
   "source": []
  }
 ],
 "metadata": {
  "kernelspec": {
   "display_name": "base",
   "language": "python",
   "name": "python3"
  },
  "language_info": {
   "codemirror_mode": {
    "name": "ipython",
    "version": 3
   },
   "file_extension": ".py",
   "mimetype": "text/x-python",
   "name": "python",
   "nbconvert_exporter": "python",
   "pygments_lexer": "ipython3",
   "version": "3.11.7"
  }
 },
 "nbformat": 4,
 "nbformat_minor": 2
}
