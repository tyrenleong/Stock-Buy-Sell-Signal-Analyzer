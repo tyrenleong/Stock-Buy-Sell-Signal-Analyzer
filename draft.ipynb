{
 "cells": [
  {
   "cell_type": "code",
   "execution_count": 8,
   "metadata": {},
   "outputs": [],
   "source": [
    "import yfinance as yf\n",
    "import pandas as pd\n",
    "import numpy as np\n",
    "from datetime import date\n",
    "from dateutil.relativedelta import relativedelta\n"
   ]
  },
  {
   "cell_type": "code",
   "execution_count": 13,
   "metadata": {},
   "outputs": [],
   "source": [
    "# Download data function\n",
    "def download_data(ticker_symbols, start_date,  end_date):\n",
    "        data = {}\n",
    "        for symbol in ticker_symbols:\n",
    "                symbol_data = yf.download(symbol, start=start_date, end=end_date)\n",
    "                data[symbol] = symbol_data['Close']\n",
    "        symbol_prices = pd.DataFrame(data)\n",
    "        return symbol_prices"
   ]
  },
  {
   "cell_type": "code",
   "execution_count": 14,
   "metadata": {},
   "outputs": [],
   "source": [
    "def calculate_rsi(ticker_data):\n",
    "    delta = ticker_data.diff().dropna()\n",
    "    # rolling window of 14 days is recommended\n",
    "    avg_gain = delta.where(delta>0, 0).rolling(window=14, min_periods=1)\n",
    "    avg_loss = delta.where(delta<0, 0).rolling(window=14, min_periods=1)\n",
    "    rsi = 100 - (100/(1 + (avg_gain/avg_loss)))\n",
    "    return rsi\n"
   ]
  },
  {
   "cell_type": "code",
   "execution_count": 20,
   "metadata": {},
   "outputs": [],
   "source": [
    "def main():\n",
    "    # 5 most active stocks from yahoo finance\n",
    "    stocks = ['NVDA', 'NIO', 'TSLA', 'INND', 'INTC']\n",
    "    # calculate the today's date and the date exactly 1 years in the past\n",
    "    present_date = date.today()\n",
    "    past_date = present_date - relativedelta(years=1)\n",
    "    present_date = present_date.strftime('%Y-%m-%d')\n",
    "    past_date = past_date.strftime('%Y-%m-%d')\n",
    "\n",
    "    # download the etf data from dates above\n",
    "    stock_data = download_data(stocks, past_date, present_date)\n",
    "    df = pd.DataFrame(stock_data)\n",
    "    print(df)\n",
    "    display(df)\n",
    "\n"
   ]
  },
  {
   "cell_type": "code",
   "execution_count": null,
   "metadata": {},
   "outputs": [],
   "source": [
    "def monitor_stocks(ticker_data):\n",
    "    # Calculate RSI\n",
    "    rsi = calculate_rsi(ticker_data)\n",
    "\n",
    "    # Get the most recent RSI value\n",
    "    latest_rsi = rsi.iloc[-1]\n",
    "    print(f\"Latest RSI for {ticker_data}: {latest_rsi:.2f}\")\n",
    "\n",
    "    # Determine buy/sell signals\n",
    "    buy_threshold = 30\n",
    "    sell_threshold = 70\n",
    "\n",
    "    if latest_rsi < buy_threshold:\n",
    "        print(f\"Buy signal for {stock}\")\n",
    "    elif latest_rsi > sell_threshold:\n",
    "        print(f\"Sell signal for {stock}\")\n",
    "    else:\n",
    "        print(f\"No clear signal for {stock}\")"
   ]
  }
 ],
 "metadata": {
  "kernelspec": {
   "display_name": "base",
   "language": "python",
   "name": "python3"
  },
  "language_info": {
   "codemirror_mode": {
    "name": "ipython",
    "version": 3
   },
   "file_extension": ".py",
   "mimetype": "text/x-python",
   "name": "python",
   "nbconvert_exporter": "python",
   "pygments_lexer": "ipython3",
   "version": "3.11.7"
  }
 },
 "nbformat": 4,
 "nbformat_minor": 2
}
